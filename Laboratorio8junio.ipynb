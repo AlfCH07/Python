{
  "nbformat": 4,
  "nbformat_minor": 0,
  "metadata": {
    "colab": {
      "name": "Laboratorio8junio.ipynb",
      "provenance": [],
      "authorship_tag": "ABX9TyO2IQvDe9MWoZtl2D+myV1D",
      "include_colab_link": true
    },
    "kernelspec": {
      "name": "python3",
      "display_name": "Python 3"
    },
    "language_info": {
      "name": "python"
    }
  },
  "cells": [
    {
      "cell_type": "markdown",
      "metadata": {
        "id": "view-in-github",
        "colab_type": "text"
      },
      "source": [
        "<a href=\"https://colab.research.google.com/github/AlfCH07/Python/blob/main/Laboratorio8junio.ipynb\" target=\"_parent\"><img src=\"https://colab.research.google.com/assets/colab-badge.svg\" alt=\"Open In Colab\"/></a>"
      ]
    },
    {
      "cell_type": "markdown",
      "source": [
        "Laboratorio inicial de uso de Colab**"
      ],
      "metadata": {
        "id": "h4q4EO9CBSbI"
      }
    },
    {
      "cell_type": "markdown",
      "source": [
        "Alfonso Camacho Herrera"
      ],
      "metadata": {
        "id": "h6GTv-RoBaBh"
      }
    },
    {
      "cell_type": "code",
      "execution_count": 12,
      "metadata": {
        "id": "Ma4k79ZtA4J0"
      },
      "outputs": [],
      "source": [
        "import pandas as pd\n",
        "\n",
        "from google.colab import auth\n",
        "auth.authenticate_user()\n",
        "\n",
        "\n",
        "import gspread\n",
        "from google.auth import default\n",
        "creds, _ =default()\n",
        "\n",
        "\n",
        "gc=gspread.authorize (creds)\n",
        "sh=gc.create('Alfonso')\n",
        "\n",
        "\n",
        "\n"
      ]
    },
    {
      "cell_type": "code",
      "source": [
        "worksheet = gc.open('Alfonso').sheet1\n",
        "\n",
        "cell_list = worksheet.range('A1:G14')\n",
        "\n",
        "import random\n",
        "for cell in cell_list:\n",
        "  cell.value = random.randint(1,10)\n",
        "\n",
        "\n",
        "worksheet.update_cells (cell_list)"
      ],
      "metadata": {
        "colab": {
          "base_uri": "https://localhost:8080/"
        },
        "id": "DQSpL4l5GzX4",
        "outputId": "bbf049d5-fcef-484d-ab08-951d16dc501b"
      },
      "execution_count": 14,
      "outputs": [
        {
          "output_type": "execute_result",
          "data": {
            "text/plain": [
              "{'spreadsheetId': '1kjtK-Bf_vzn1_zu3lohhbixXJTpDZ7PcmrlUR2v3YpU',\n",
              " 'updatedCells': 98,\n",
              " 'updatedColumns': 7,\n",
              " 'updatedRange': \"'Hoja 1'!A1:G14\",\n",
              " 'updatedRows': 14}"
            ]
          },
          "metadata": {},
          "execution_count": 14
        }
      ]
    },
    {
      "cell_type": "code",
      "source": [
        "worksheet = gc.open('Alfonso').sheet1\n",
        "rows=worksheet.get_all_values()\n",
        "print(rows)\n",
        "\n",
        "\n",
        "\n",
        "\n"
      ],
      "metadata": {
        "colab": {
          "base_uri": "https://localhost:8080/"
        },
        "id": "moHZXN4yH3vF",
        "outputId": "8eafa854-5163-48c8-8257-a2d025dea2fa"
      },
      "execution_count": 17,
      "outputs": [
        {
          "output_type": "stream",
          "name": "stdout",
          "text": [
            "[['10', '5', '9', '10', '9', '1', '3'], ['8', '2', '10', '4', '8', '2', '10'], ['3', '5', '7', '7', '6', '8', '1'], ['8', '5', '4', '6', '1', '9', '6'], ['4', '2', '8', '1', '10', '10', '5'], ['6', '4', '3', '7', '5', '7', '8'], ['1', '1', '6', '9', '5', '3', '8'], ['7', '5', '3', '5', '7', '4', '1'], ['2', '1', '4', '6', '2', '7', '2'], ['4', '4', '9', '2', '4', '4', '3'], ['9', '9', '2', '9', '7', '2', '5'], ['6', '6', '10', '6', '6', '10', '7'], ['10', '10', '8', '10', '1', '3', '2'], ['3', '4', '3', '7', '10', '5', '7']]\n"
          ]
        }
      ]
    }
  ]
}